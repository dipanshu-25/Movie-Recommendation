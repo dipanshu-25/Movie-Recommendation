{
 "cells": [
  {
   "cell_type": "markdown",
   "id": "596d0065",
   "metadata": {},
   "source": [
    "\n",
    "# Movie Recommendation System\n",
    "\n",
    "## Project Overview\n",
    "This project aims to build a movie recommendation system using both collaborative filtering and content-based filtering. The recommendation system will provide suggestions based on user preferences or similar movie genres.\n",
    "\n",
    "### Objective\n",
    "- Develop a recommendation model to suggest movies to users based on user ratings or movie genres.\n",
    "\n",
    "### Dataset\n",
    "We'll be using the [MovieLens dataset](https://grouplens.org/datasets/movielens/), which contains information on users, movies, and ratings.\n"
   ]
  },
  {
   "cell_type": "markdown",
   "id": "dece3fe8",
   "metadata": {},
   "source": [
    "\n",
    "## 1. Data Loading and Preprocessing\n",
    "In this section, we load the data, perform initial inspection, and preprocess the data to ensure it is clean and ready for analysis.\n"
   ]
  },
  {
   "cell_type": "code",
   "execution_count": null,
   "id": "7b866312",
   "metadata": {},
   "outputs": [],
   "source": [
    "\n",
    "# Import necessary libraries\n",
    "import pandas as pd\n",
    "import numpy as np\n",
    "\n",
    "# Load datasets (movies and ratings)\n",
    "movies = pd.read_csv('movies.csv')    # movie details\n",
    "ratings = pd.read_csv('ratings.csv')  # user ratings\n",
    "\n",
    "# Merge datasets for ease of use\n",
    "data = pd.merge(ratings, movies, on='movieId')\n",
    "\n",
    "# Display the first few rows of the dataset\n",
    "data.head()\n"
   ]
  },
  {
   "cell_type": "markdown",
   "id": "7d65a876",
   "metadata": {},
   "source": [
    "\n",
    "## 2. Exploratory Data Analysis (EDA)\n",
    "Here, we analyze the data distribution for ratings and genres, and look at popular movies.\n"
   ]
  },
  {
   "cell_type": "code",
   "execution_count": null,
   "id": "faef1f2c",
   "metadata": {},
   "outputs": [],
   "source": [
    "\n",
    "import matplotlib.pyplot as plt\n",
    "import seaborn as sns\n",
    "\n",
    "# Distribution of ratings\n",
    "sns.histplot(data['rating'], bins=10, kde=True)\n",
    "plt.title('Rating Distribution')\n",
    "plt.show()\n"
   ]
  },
  {
   "cell_type": "markdown",
   "id": "a118e2cf",
   "metadata": {},
   "source": [
    "\n",
    "## 3. Modeling\n",
    "We'll use two methods:\n",
    "1. **Collaborative Filtering (User-Item Filtering)** using the SVD algorithm.\n",
    "2. **Content-Based Filtering** using cosine similarity on genres.\n"
   ]
  },
  {
   "cell_type": "markdown",
   "id": "43889664",
   "metadata": {},
   "source": [
    "### Collaborative Filtering using SVD"
   ]
  },
  {
   "cell_type": "code",
   "execution_count": null,
   "id": "9af1257a",
   "metadata": {},
   "outputs": [],
   "source": [
    "\n",
    "from surprise import SVD, Dataset, Reader\n",
    "from surprise.model_selection import train_test_split\n",
    "from surprise.accuracy import rmse\n",
    "\n",
    "# Load data into Surprise format\n",
    "reader = Reader(rating_scale=(0.5, 5))\n",
    "data_surprise = Dataset.load_from_df(ratings[['userId', 'movieId', 'rating']], reader)\n",
    "\n",
    "# Train-test split\n",
    "trainset, testset = train_test_split(data_surprise, test_size=0.2)\n",
    "\n",
    "# Model training using SVD\n",
    "algo = SVD()\n",
    "algo.fit(trainset)\n",
    "\n",
    "# Predictions and evaluation\n",
    "predictions = algo.test(testset)\n",
    "print(f\"RMSE: {rmse(predictions)}\")\n"
   ]
  },
  {
   "cell_type": "markdown",
   "id": "4db33921",
   "metadata": {},
   "source": [
    "### Content-Based Filtering using TF-IDF and Cosine Similarity"
   ]
  },
  {
   "cell_type": "code",
   "execution_count": null,
   "id": "118bc05a",
   "metadata": {},
   "outputs": [],
   "source": [
    "\n",
    "from sklearn.feature_extraction.text import TfidfVectorizer\n",
    "from sklearn.metrics.pairwise import cosine_similarity\n",
    "\n",
    "# Vectorize genres or descriptions\n",
    "tfidf = TfidfVectorizer(stop_words='english')\n",
    "tfidf_matrix = tfidf.fit_transform(movies['genres'])\n",
    "\n",
    "# Compute cosine similarity matrix\n",
    "cosine_sim = cosine_similarity(tfidf_matrix, tfidf_matrix)\n",
    "\n",
    "# Function to get movie recommendations\n",
    "def get_recommendations(title, cosine_sim=cosine_sim):\n",
    "    idx = movies[movies['title'] == title].index[0]\n",
    "    sim_scores = list(enumerate(cosine_sim[idx]))\n",
    "    sim_scores = sorted(sim_scores, key=lambda x: x[1], reverse=True)\n",
    "    sim_scores = sim_scores[1:11]\n",
    "    movie_indices = [i[0] for i in sim_scores]\n",
    "    return movies['title'].iloc[movie_indices]\n",
    "\n",
    "# Example usage\n",
    "print(get_recommendations('Toy Story (1995)'))\n"
   ]
  },
  {
   "cell_type": "markdown",
   "id": "f27c99a1",
   "metadata": {},
   "source": [
    "\n",
    "## 4. Evaluation\n",
    "- We evaluated the Collaborative Filtering model using RMSE.\n",
    "- For Content-Based, we checked recommendations for known movies.\n"
   ]
  },
  {
   "cell_type": "markdown",
   "id": "f4ac1074",
   "metadata": {},
   "source": [
    "\n",
    "## 5. Deployment (Optional)\n",
    "To deploy this model as a web service, you can use Flask, Django, or FastAPI. This would allow users to interact with the recommendation system online.\n"
   ]
  }
 ],
 "metadata": {},
 "nbformat": 4,
 "nbformat_minor": 5
}
